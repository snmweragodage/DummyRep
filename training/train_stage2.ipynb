{
 "cells": [
  {
   "cell_type": "code",
   "execution_count": 1,
   "id": "3faf15b7",
   "metadata": {},
   "outputs": [],
   "source": [
    "import torch\n",
    "import torch.nn as nn\n",
    "import torch.optim as optim\n",
    "from torchvision import transforms\n",
    "from torch.utils.data import Dataset, DataLoader, random_split\n",
    "import pandas as pd\n",
    "from PIL import Image\n",
    "import os\n"
   ]
  },
  {
   "cell_type": "code",
   "execution_count": 2,
   "id": "33d928bc",
   "metadata": {},
   "outputs": [
    {
     "name": "stdout",
     "output_type": "stream",
     "text": [
      "Using device: cpu\n"
     ]
    }
   ],
   "source": [
    "device = torch.device('cuda' if torch.cuda.is_available() else 'cpu')\n",
    "print(f\"Using device: {device}\")\n"
   ]
  },
  {
   "cell_type": "code",
   "execution_count": 3,
   "id": "2487d7f3",
   "metadata": {},
   "outputs": [],
   "source": [
    "class SkinCancerStage2Dataset(Dataset):\n",
    "    def __init__(self, csv_file, img_dir, transform=None):\n",
    "        self.metadata = pd.read_csv(csv_file)\n",
    "        self.img_dir = img_dir\n",
    "        self.transform = transform\n",
    "\n",
    "        # Keep only cancerous images\n",
    "        cancerous_classes = ['mel', 'bcc', 'akiec']\n",
    "        self.metadata = self.metadata[self.metadata['dx'].isin(cancerous_classes)]\n",
    "\n",
    "        # Map:\n",
    "        # mel = 1 (Melanoma)\n",
    "        # bcc and akiec = 0 (Non-Melanoma)\n",
    "        self.metadata['label'] = self.metadata['dx'].map({\n",
    "            'mel': 1,\n",
    "            'bcc': 0,\n",
    "            'akiec': 0\n",
    "        })\n",
    "\n",
    "    def __len__(self):\n",
    "        return len(self.metadata)\n",
    "\n",
    "    def __getitem__(self, idx):\n",
    "        img_name = self.metadata.iloc[idx]['image_id']\n",
    "        img_path = os.path.join(self.img_dir, f\"{img_name}.jpg\")\n",
    "\n",
    "        image = Image.open(img_path).convert(\"RGB\")\n",
    "        label = self.metadata.iloc[idx]['label']\n",
    "\n",
    "        if self.transform:\n",
    "            image = self.transform(image)\n",
    "\n",
    "        return image, torch.tensor(label, dtype=torch.float32)\n",
    "\n",
    "    "
   ]
  },
  {
   "cell_type": "code",
   "execution_count": 4,
   "id": "f0556339",
   "metadata": {},
   "outputs": [],
   "source": [
    "transform = transforms.Compose([\n",
    "    transforms.Resize((64, 64)),\n",
    "    transforms.ToTensor()\n",
    "])\n"
   ]
  },
  {
   "cell_type": "code",
   "execution_count": 5,
   "id": "ee95483a",
   "metadata": {},
   "outputs": [],
   "source": [
    "csv_path = \"C:/Users/Sujani/Desktop/FinalYearProject/training/data/HAM10000_metadata.csv\"   \n",
    "images_path = \"C:/Users/Sujani/Desktop/FinalYearProject/training/data/HAM10000_images\"       \n",
    "\n",
    "dataset_stage2 = SkinCancerStage2Dataset(\n",
    "    csv_file=csv_path,\n",
    "    img_dir=images_path,\n",
    "    transform=transform\n",
    ")\n",
    "\n",
    "train_size = int(0.8 * len(dataset_stage2))\n",
    "test_size = len(dataset_stage2) - train_size\n",
    "train_dataset_stage2, test_dataset_stage2 = random_split(dataset_stage2, [train_size, test_size])\n",
    "\n",
    "train_loader_stage2 = DataLoader(train_dataset_stage2, batch_size=32, shuffle=True)\n",
    "test_loader_stage2 = DataLoader(test_dataset_stage2, batch_size=32, shuffle=False)\n"
   ]
  },
  {
   "cell_type": "code",
   "execution_count": 6,
   "id": "18ca0ebe",
   "metadata": {},
   "outputs": [],
   "source": [
    "class SkinCancerCNN(nn.Module):\n",
    "    def __init__(self):\n",
    "        super(SkinCancerCNN, self).__init__()\n",
    "        self.conv1 = nn.Conv2d(3, 32, kernel_size=3, padding=1)\n",
    "        self.conv2 = nn.Conv2d(32, 64, kernel_size=3, padding=1)\n",
    "        self.pool = nn.MaxPool2d(2, 2)\n",
    "        self.fc1 = nn.Linear(64 * 16 * 16, 128)\n",
    "        self.fc2 = nn.Linear(128, 1)\n",
    "        self.sigmoid = nn.Sigmoid()\n",
    "\n",
    "    def forward(self, x):\n",
    "        x = self.pool(torch.relu(self.conv1(x)))\n",
    "        x = self.pool(torch.relu(self.conv2(x)))\n",
    "        x = x.view(-1, 64 * 16 * 16)\n",
    "        x = torch.relu(self.fc1(x))\n",
    "        x = self.sigmoid(self.fc2(x))\n",
    "        return x\n",
    "\n",
    "model_stage2 = SkinCancerCNN().to(device)\n"
   ]
  },
  {
   "cell_type": "code",
   "execution_count": 7,
   "id": "a0fef243",
   "metadata": {},
   "outputs": [],
   "source": [
    "criterion_stage2 = nn.BCELoss()\n",
    "optimizer_stage2 = optim.Adam(model_stage2.parameters(), lr=0.001)\n"
   ]
  },
  {
   "cell_type": "code",
   "execution_count": 8,
   "id": "8b36cb29",
   "metadata": {},
   "outputs": [
    {
     "name": "stdout",
     "output_type": "stream",
     "text": [
      "Stage 2 - Epoch [1/10], Loss: 0.5791\n",
      "Stage 2 - Epoch [2/10], Loss: 0.3582\n",
      "Stage 2 - Epoch [3/10], Loss: 0.3428\n",
      "Stage 2 - Epoch [4/10], Loss: 0.2916\n",
      "Stage 2 - Epoch [5/10], Loss: 0.3123\n",
      "Stage 2 - Epoch [6/10], Loss: 0.2787\n",
      "Stage 2 - Epoch [7/10], Loss: 0.2588\n",
      "Stage 2 - Epoch [8/10], Loss: 0.2604\n",
      "Stage 2 - Epoch [9/10], Loss: 0.2575\n",
      "Stage 2 - Epoch [10/10], Loss: 0.2263\n",
      "Stage 2 Training completed!\n"
     ]
    }
   ],
   "source": [
    "num_epochs = 10\n",
    "\n",
    "for epoch in range(num_epochs):\n",
    "    model_stage2.train()\n",
    "    running_loss = 0.0\n",
    "    for inputs, labels in train_loader_stage2:\n",
    "        inputs, labels = inputs.to(device), labels.to(device)\n",
    "        labels = labels.unsqueeze(1)\n",
    "\n",
    "        optimizer_stage2.zero_grad()\n",
    "        outputs = model_stage2(inputs)\n",
    "        loss = criterion_stage2(outputs, labels)\n",
    "        loss.backward()\n",
    "        optimizer_stage2.step()\n",
    "\n",
    "        running_loss += loss.item()\n",
    "\n",
    "    print(f\"Stage 2 - Epoch [{epoch+1}/{num_epochs}], Loss: {running_loss/len(train_loader_stage2):.4f}\")\n",
    "\n",
    "print(\"Stage 2 Training completed!\")\n"
   ]
  },
  {
   "cell_type": "code",
   "execution_count": 13,
   "id": "84c68a89",
   "metadata": {},
   "outputs": [
    {
     "name": "stdout",
     "output_type": "stream",
     "text": [
      "Stage 2 Model Test Accuracy: 85.68%\n"
     ]
    }
   ],
   "source": [
    "# Stage 2 Accuracy Checking\n",
    "model_stage2.eval()\n",
    "\n",
    "correct = 0\n",
    "total = 0\n",
    "\n",
    "with torch.no_grad():\n",
    "    for inputs, labels in test_loader_stage2:\n",
    "        inputs, labels = inputs.to(device), labels.to(device)\n",
    "        labels = labels.unsqueeze(1)\n",
    "\n",
    "        outputs = model_stage2(inputs)\n",
    "        predicted = (outputs > 0.5).float()\n",
    "\n",
    "        total += labels.size(0)\n",
    "        correct += (predicted == labels).sum().item()\n",
    "\n",
    "accuracy_stage2 = 100 * correct / total\n",
    "print(f\"Stage 2 Model Test Accuracy: {accuracy_stage2:.2f}%\")\n"
   ]
  },
  {
   "cell_type": "code",
   "execution_count": 12,
   "id": "58a37e42",
   "metadata": {},
   "outputs": [
    {
     "name": "stdout",
     "output_type": "stream",
     "text": [
      "Stage 2 Model saved successfully!\n"
     ]
    }
   ],
   "source": [
    "torch.save(model_stage2.state_dict(), \"C:/Users/Sujani/Desktop/FinalYearProject/backend/model_stage2.pt\")\n",
    "print(\"Stage 2 Model saved successfully!\")\n"
   ]
  },
  {
   "cell_type": "code",
   "execution_count": null,
   "id": "7703fabf",
   "metadata": {},
   "outputs": [],
   "source": []
  }
 ],
 "metadata": {
  "kernelspec": {
   "display_name": "Python 3 (ipykernel)",
   "language": "python",
   "name": "python3"
  },
  "language_info": {
   "codemirror_mode": {
    "name": "ipython",
    "version": 3
   },
   "file_extension": ".py",
   "mimetype": "text/x-python",
   "name": "python",
   "nbconvert_exporter": "python",
   "pygments_lexer": "ipython3",
   "version": "3.11.5"
  }
 },
 "nbformat": 4,
 "nbformat_minor": 5
}
